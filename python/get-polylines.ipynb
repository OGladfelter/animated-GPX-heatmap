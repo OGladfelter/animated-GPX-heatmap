{
 "cells": [
  {
   "cell_type": "markdown",
   "id": "c63928d4",
   "metadata": {},
   "source": [
    "## Objective: I need the summary polyline info for every run completed in Brooklyn & Chicago (up until a specific date). Each run should also have a unique ID."
   ]
  },
  {
   "cell_type": "code",
   "execution_count": 2,
   "id": "106c968f",
   "metadata": {},
   "outputs": [],
   "source": [
    "import pandas as pd\n",
    "import json\n",
    "from datetime import datetime\n",
    "import numpy as np\n",
    "\n",
    "def getDate(value):\n",
    "    return datetime.strptime(value.split(\"T\")[0], '%Y-%m-%d')\n",
    "\n",
    "def getStartLat(value):\n",
    "    if value==[]:\n",
    "        return -1\n",
    "    return value[0]\n",
    "\n",
    "def getStartLng(value):\n",
    "    if value==[]:\n",
    "        return -1\n",
    "    return value[1]"
   ]
  },
  {
   "cell_type": "code",
   "execution_count": 27,
   "id": "5e7862aa",
   "metadata": {},
   "outputs": [],
   "source": [
    "# data comes from Strava's API. Other options for collecting Strava data here: https://support.strava.com/hc/en-us/articles/216918437-Exporting-your-Data-and-Bulk-Export\n",
    "df = pd.read_json('../strava-dashboard/data.json')\n",
    "\n",
    "# data filtering: removing recent activities, non-runs, and activities outside areas of interest\n",
    "\n",
    "# exclude more recent activities\n",
    "df['date'] = df['start_date_local'].apply(getDate)\n",
    "data = df[df['date'] < datetime(2020, 8, 1, 0, 0)]\n",
    "\n",
    "# exclude non-runs\n",
    "data = data[data['type']=='Run']\n",
    "\n",
    "# exclude starting runs outside brooklyn\n",
    "data['start_lat'] = data['start_latlng'].apply(getStartLat)\n",
    "data['start_lon'] = data['start_latlng'].apply(getStartLng)\n",
    "\n",
    "# Brooklyn\n",
    "nyc = data[(data['start_lat'] < 40.730217) & (data['start_lat'] > 40.647789) & (data['start_lon'] > -74.022393) & (data['start_lon'] < -73.912763)]\n",
    "\n",
    "# extract summary polyline, add index, and export data\n",
    "nyc['summary_polyline'] = nyc.applymap(lambda x: x.get('summary_polyline', np.nan) \\\n",
    "                        if isinstance(x, dict) else np.nan)['map']\n",
    "\n",
    "nyc = nyc[['summary_polyline']]\n",
    "\n",
    "for i in nyc.index:\n",
    "    nyc['id'][i] = i\n",
    "    \n",
    "nyc.to_csv(\"data/nyc.csv\", index=False)\n",
    "\n",
    "# Chicago\n",
    "chicago = data[(data['start_lat'] < 41.978726) & (data['start_lat'] > 41.87322) & (data['start_lon'] > -87.74023299999999) & (data['start_lon'] < -87.598619)]\n",
    "\n",
    "# extract summary polyline, add index, and export data\n",
    "chicago['summary_polyline'] = chicago.applymap(lambda x: x.get('summary_polyline', np.nan) \\\n",
    "                        if isinstance(x, dict) else np.nan)['map']\n",
    "\n",
    "chicago = chicago[['summary_polyline']]\n",
    "\n",
    "chicago['id'] = 0\n",
    "for i in chicago.index:\n",
    "    chicago['id'][i] = i\n",
    "    \n",
    "chicago.to_csv(\"data/chicago.csv\", index=False)"
   ]
  }
 ],
 "metadata": {
  "kernelspec": {
   "display_name": "Python 3",
   "language": "python",
   "name": "python3"
  },
  "language_info": {
   "codemirror_mode": {
    "name": "ipython",
    "version": 3
   },
   "file_extension": ".py",
   "mimetype": "text/x-python",
   "name": "python",
   "nbconvert_exporter": "python",
   "pygments_lexer": "ipython3",
   "version": "3.8.8"
  }
 },
 "nbformat": 4,
 "nbformat_minor": 5
}
